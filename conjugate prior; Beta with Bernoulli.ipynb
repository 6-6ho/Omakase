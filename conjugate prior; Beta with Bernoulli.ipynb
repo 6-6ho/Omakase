{
 "cells": [
  {
   "cell_type": "markdown",
   "metadata": {},
   "source": [
    "In this section, I'm going to provide a proof that the beta distribution is a conjugate prior to the Bernoulli distribution.\n",
    "\n",
    "If $X \\sim Beta(a,b)$, then $f(x) = \\displaystyle \\frac{(\\theta)^{a-1} \\times (\\theta-1)^{b-1}}{Beta(a,b)}$\n",
    "\n",
    "$ Beta(a,b) = \\int_{0}^{1} x^{a-1} (1-x)^{b-1} \\, dx$ for $a,b \\in R^{+}$\n",
    "\n",
    "First of all, beta distribution is defined by two parameters which I'm going to call $a$ and $b$. Its PDF(probability density function) is eqaul to $\\theta$ to the power $a-1$ times $\\theta - 1$ to the power $b-1$, all divided through by a normalizing function which is called a beta function which again takes these two parameters.\n",
    " \n",
    "If $X \\sim Bernoulli(\\theta)$, PMF $P(x \\mid \\theta) = \\displaystyle \\theta^x (1-\\theta)^{1-x}$\n",
    "\n",
    "$P(\\theta) = \\displaystyle \\frac{\\theta^{a-1} (\\theta-1)^{b-1}}{Beta(a,b)} $\n",
    "\n",
    "$P(\\theta \\mid x) = \\displaystyle \\frac {P(x \\mid \\theta) P(\\theta)}{P(x)} \\\\ = \\displaystyle \\frac {P(x \\mid \\theta) P(\\theta)}{\\int_{0}^{1} P(x \\mid \\theta) P(\\theta) \\, d\\theta} \\\\ = \\displaystyle \\frac {\\theta^x (1-\\theta)^{1-x} \\times \\displaystyle \\frac{\\theta^{a-1} (\\theta-1)^{b-1}}{Beta(a,b)}}{\\int_{0}^{1} \\left ( \\theta^x (1-\\theta)^{1-x}\\times \\displaystyle \\frac{\\theta^{a-1} (\\theta-1)^{b-1}}{Beta(a,b)} \\right ) \\, d\\theta} $\n",
    "\n",
    "$= \\displaystyle \\frac {\\theta^{x+a-1} (1-\\theta)^{x+b}}{\\int_{0}^{1} \\theta^{a-1+x} (1-\\theta)^{b-1+1-x} \\, d\\theta} \\\\ = \\displaystyle \\frac {\\theta^{x+a-1} (1-\\theta)^{x+b}}{Beta(a+x,b+1-x)}\\\\ \\text{which is another Beta distribution with parameters} (a+x,b+1-x) \\\\ \\text{This completes the proof.} \\square $\n",
    "\n"
   ]
  },
  {
   "cell_type": "markdown",
   "metadata": {},
   "source": [
    "\n"
   ]
  },
  {
   "cell_type": "markdown",
   "metadata": {},
   "source": []
  },
  {
   "cell_type": "code",
   "execution_count": null,
   "metadata": {},
   "outputs": [],
   "source": []
  }
 ],
 "metadata": {
  "kernelspec": {
   "display_name": "Python 3",
   "language": "python",
   "name": "python3"
  },
  "language_info": {
   "codemirror_mode": {
    "name": "ipython",
    "version": 3
   },
   "file_extension": ".py",
   "mimetype": "text/x-python",
   "name": "python",
   "nbconvert_exporter": "python",
   "pygments_lexer": "ipython3",
   "version": "3.6.9"
  }
 },
 "nbformat": 4,
 "nbformat_minor": 2
}
